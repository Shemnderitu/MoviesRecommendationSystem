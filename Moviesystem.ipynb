{
 "cells": [
  {
   "cell_type": "markdown",
   "id": "91884f53",
   "metadata": {},
   "source": [
    "# **StreamSmart: Personalized Movie Recommendations**"
   ]
  },
  {
   "cell_type": "markdown",
   "id": "67f6bfe8",
   "metadata": {},
   "source": [
    "## 🚦 Overview\n",
    "1. Business Understanding\n",
    "2. Data Understanding / EDA\n",
    "3. Data Preparation & Splits\n",
    "4. Baselines & KNN CF\n",
    "5. SVD / ALS & Hybrid\n",
    "6. Evaluation, (Optional) Ensemble Re-ranker, Conclusion\n",
    "\n",
    "---"
   ]
  },
  {
   "cell_type": "markdown",
   "id": "25c6469c",
   "metadata": {},
   "source": [
    "## 🎯 **Business Understanding**\n",
    "\n",
    "Intro, stakeholder, long-tail problem, success metric\n",
    "\n",
    "---"
   ]
  },
  {
   "cell_type": "markdown",
   "id": "93244e7c",
   "metadata": {},
   "source": [
    "## 🔎 **Data Understanding / EDA**\n",
    "\n",
    "### 1. Importing Libraries and Setup\n",
    "\n",
    "Before diving into the data, we need to import a number of Python libraries that will help us handle, manipulate, and analyze the dataset."
   ]
  },
  {
   "cell_type": "code",
   "execution_count": 1,
   "id": "97172745",
   "metadata": {},
   "outputs": [],
   "source": [
    "# Import necessary libraries\n",
    "import numpy as np\n",
    "import pandas as pd\n",
    "import matplotlib.pyplot as plt\n",
    "import seaborn as sns\n",
    "from collections import defaultdict\n",
    "import warnings\n",
    "warnings.filterwarnings('ignore')\n",
    "\n",
    "# Surprise library for recommendation systems\n",
    "from surprise import Dataset, Reader, accuracy\n",
    "from surprise import KNNBasic, KNNWithMeans, SVD, NMF\n",
    "from surprise.model_selection import cross_validate, GridSearchCV, train_test_split\n",
    "\n",
    "# Set style for plots\n",
    "plt.style.use('seaborn-whitegrid')\n",
    "sns.set_palette(\"Set2\")\n",
    "%matplotlib inline"
   ]
  },
  {
   "cell_type": "markdown",
   "id": "89b828ec",
   "metadata": {},
   "source": [
    "\n",
    "### 2. Data Loading and Initial Exploration\n",
    "\n",
    "- In this section we load all the core MovieLens datasets i.e **movies, ratings, links, and tags** into a pandas DataFrame.\n",
    "\n",
    "- Then we merge these datasets into a single comprehensive DataFrame called movie_data, combining movie details, user ratings, external links, and user-generated tags.\n",
    "\n",
    "- The merging process ensures that all ratings are retained, even if some movies lack tags.\n",
    "\n",
    "- Finally, we shall print the shape of the merged DataFrame and displays its first few rows, allowing you to verify that the data has been loaded and combined correctly for further analysis."
   ]
  },
  {
   "cell_type": "markdown",
   "id": "574f3f58",
   "metadata": {},
   "source": [
    "---"
   ]
  },
  {
   "cell_type": "code",
   "execution_count": 2,
   "id": "4b77b6dc",
   "metadata": {},
   "outputs": [
    {
     "name": "stdout",
     "output_type": "stream",
     "text": [
      "Movie Data Shape: (102677, 10)\n"
     ]
    },
    {
     "data": {
      "text/html": [
       "<div>\n",
       "<style scoped>\n",
       "    .dataframe tbody tr th:only-of-type {\n",
       "        vertical-align: middle;\n",
       "    }\n",
       "\n",
       "    .dataframe tbody tr th {\n",
       "        vertical-align: top;\n",
       "    }\n",
       "\n",
       "    .dataframe thead th {\n",
       "        text-align: right;\n",
       "    }\n",
       "</style>\n",
       "<table border=\"1\" class=\"dataframe\">\n",
       "  <thead>\n",
       "    <tr style=\"text-align: right;\">\n",
       "      <th></th>\n",
       "      <th>movieId</th>\n",
       "      <th>title</th>\n",
       "      <th>genres</th>\n",
       "      <th>userId</th>\n",
       "      <th>rating</th>\n",
       "      <th>timestamp_rating</th>\n",
       "      <th>imdbId</th>\n",
       "      <th>tmdbId</th>\n",
       "      <th>tag</th>\n",
       "      <th>timestamp_tag</th>\n",
       "    </tr>\n",
       "  </thead>\n",
       "  <tbody>\n",
       "    <tr>\n",
       "      <th>0</th>\n",
       "      <td>1</td>\n",
       "      <td>Toy Story (1995)</td>\n",
       "      <td>Adventure|Animation|Children|Comedy|Fantasy</td>\n",
       "      <td>1</td>\n",
       "      <td>4.0</td>\n",
       "      <td>964982703</td>\n",
       "      <td>114709</td>\n",
       "      <td>862.0</td>\n",
       "      <td>NaN</td>\n",
       "      <td>NaN</td>\n",
       "    </tr>\n",
       "    <tr>\n",
       "      <th>1</th>\n",
       "      <td>1</td>\n",
       "      <td>Toy Story (1995)</td>\n",
       "      <td>Adventure|Animation|Children|Comedy|Fantasy</td>\n",
       "      <td>5</td>\n",
       "      <td>4.0</td>\n",
       "      <td>847434962</td>\n",
       "      <td>114709</td>\n",
       "      <td>862.0</td>\n",
       "      <td>NaN</td>\n",
       "      <td>NaN</td>\n",
       "    </tr>\n",
       "    <tr>\n",
       "      <th>2</th>\n",
       "      <td>1</td>\n",
       "      <td>Toy Story (1995)</td>\n",
       "      <td>Adventure|Animation|Children|Comedy|Fantasy</td>\n",
       "      <td>7</td>\n",
       "      <td>4.5</td>\n",
       "      <td>1106635946</td>\n",
       "      <td>114709</td>\n",
       "      <td>862.0</td>\n",
       "      <td>NaN</td>\n",
       "      <td>NaN</td>\n",
       "    </tr>\n",
       "    <tr>\n",
       "      <th>3</th>\n",
       "      <td>1</td>\n",
       "      <td>Toy Story (1995)</td>\n",
       "      <td>Adventure|Animation|Children|Comedy|Fantasy</td>\n",
       "      <td>15</td>\n",
       "      <td>2.5</td>\n",
       "      <td>1510577970</td>\n",
       "      <td>114709</td>\n",
       "      <td>862.0</td>\n",
       "      <td>NaN</td>\n",
       "      <td>NaN</td>\n",
       "    </tr>\n",
       "    <tr>\n",
       "      <th>4</th>\n",
       "      <td>1</td>\n",
       "      <td>Toy Story (1995)</td>\n",
       "      <td>Adventure|Animation|Children|Comedy|Fantasy</td>\n",
       "      <td>17</td>\n",
       "      <td>4.5</td>\n",
       "      <td>1305696483</td>\n",
       "      <td>114709</td>\n",
       "      <td>862.0</td>\n",
       "      <td>NaN</td>\n",
       "      <td>NaN</td>\n",
       "    </tr>\n",
       "  </tbody>\n",
       "</table>\n",
       "</div>"
      ],
      "text/plain": [
       "   movieId             title                                       genres  \\\n",
       "0        1  Toy Story (1995)  Adventure|Animation|Children|Comedy|Fantasy   \n",
       "1        1  Toy Story (1995)  Adventure|Animation|Children|Comedy|Fantasy   \n",
       "2        1  Toy Story (1995)  Adventure|Animation|Children|Comedy|Fantasy   \n",
       "3        1  Toy Story (1995)  Adventure|Animation|Children|Comedy|Fantasy   \n",
       "4        1  Toy Story (1995)  Adventure|Animation|Children|Comedy|Fantasy   \n",
       "\n",
       "   userId  rating  timestamp_rating  imdbId  tmdbId  tag  timestamp_tag  \n",
       "0       1     4.0         964982703  114709   862.0  NaN            NaN  \n",
       "1       5     4.0         847434962  114709   862.0  NaN            NaN  \n",
       "2       7     4.5        1106635946  114709   862.0  NaN            NaN  \n",
       "3      15     2.5        1510577970  114709   862.0  NaN            NaN  \n",
       "4      17     4.5        1305696483  114709   862.0  NaN            NaN  "
      ]
     },
     "execution_count": 2,
     "metadata": {},
     "output_type": "execute_result"
    }
   ],
   "source": [
    "# Load all datasets\n",
    "movies = pd.read_csv('Data/ml-latest-small/movies.csv')\n",
    "ratings = pd.read_csv('Data/ml-latest-small/ratings.csv')\n",
    "links = pd.read_csv('Data/ml-latest-small/links.csv')\n",
    "tags = pd.read_csv('Data/ml-latest-small/tags.csv')\n",
    "\n",
    "# Merge movies with ratings\n",
    "movie_data = pd.merge(movies, ratings, on='movieId')\n",
    "\n",
    "# Merge with links\n",
    "movie_data = pd.merge(movie_data, links, on='movieId')\n",
    "\n",
    "# Merge with tags (left join to keep all ratings, even if no tag)\n",
    "movie_data = pd.merge(movie_data, tags[['movieId', 'userId', 'tag', 'timestamp']], \n",
    "                      on=['movieId', 'userId'], how='left', suffixes=('_rating', '_tag'))\n",
    "\n",
    "# Inspect the final dataframe\n",
    "print(\"Movie Data Shape:\", movie_data.shape)\n",
    "movie_data.head()"
   ]
  },
  {
   "cell_type": "markdown",
   "id": "041af074",
   "metadata": {},
   "source": [
    "We're using:\n",
    "\n",
    "**NumPy and Pandas** for data manipulation\n",
    "\n",
    "**Matplotlib** and **Seaborn** for visualization\n",
    "\n",
    "**Surprise library** which is specifically designed for building recommendation systems\n",
    "\n",
    "We're **filtering out warnings** to keep the output clean\n",
    "\n",
    "Setting a **consistent visual style** for our plots"
   ]
  },
  {
   "cell_type": "markdown",
   "id": "40e55eb6",
   "metadata": {},
   "source": [
    "### 3. Dataset Overview and Basic Statistics\n",
    "\n",
    "- Here we observe a summary of the MovieLens dataset after merging all sources.\n",
    "\n",
    "- It reports the number of unique users, movies, ratings, and tags, then displays descriptive statistics for the ratings (such as mean, standard deviation, minimum, and maximum).\n",
    " \n",
    "- Finally, we visualize the distribution of ratings using a bar plot, helping us understand how users rate movies and revealing any trends or biases in the rating behavior."
   ]
  },
  {
   "cell_type": "code",
   "execution_count": 3,
   "id": "b1884e1f",
   "metadata": {},
   "outputs": [
    {
     "name": "stdout",
     "output_type": "stream",
     "text": [
      "Dataset Info:\n",
      "Number of users: 610\n",
      "Number of movies: 9724\n",
      "Number of ratings: 102677\n",
      "Number of tags: 3476\n",
      "\n",
      "Rating Statistics:\n",
      "count    102677.000000\n",
      "mean          3.514813\n",
      "std           1.043133\n",
      "min           0.500000\n",
      "25%           3.000000\n",
      "50%           3.500000\n",
      "75%           4.000000\n",
      "max           5.000000\n",
      "Name: rating, dtype: float64\n"
     ]
    },
    {
     "data": {
      "image/png": "[encoded data removed]",
      "text/plain": [
       "<Figure size 720x432 with 1 Axes>"
      ]
     },
     "metadata": {
      "needs_background": "light"
     },
     "output_type": "display_data"
    }
   ],
   "source": [
    "# Basic information about the dataset\n",
    "print(\"Dataset Info:\")\n",
    "print(f\"Number of users: {movie_data['userId'].nunique()}\")\n",
    "print(f\"Number of movies: {movie_data['movieId'].nunique()}\")\n",
    "print(f\"Number of ratings: {len(movie_data)}\")\n",
    "print(f\"Number of tags: {movie_data['tag'].notna().sum()}\")\n",
    "\n",
    "# Rating statistics\n",
    "print(\"\\nRating Statistics:\")\n",
    "print(movie_data['rating'].describe())\n",
    "\n",
    "# Distribution of ratings\n",
    "plt.figure(figsize=(10, 6))\n",
    "sns.countplot(x='rating', data=movie_data)\n",
    "plt.title('Distribution of Ratings')\n",
    "plt.xlabel('Rating')\n",
    "plt.ylabel('Count')\n",
    "plt.show()"
   ]
  },
  {
   "cell_type": "markdown",
   "id": "fa19b4ea",
   "metadata": {},
   "source": [
    "## 🧪 **Data Preparation & Splits**\n",
    "\n",
    "Chronological per-user split, avoid leakage\n",
    "\n",
    "---"
   ]
  },
  {
   "cell_type": "markdown",
   "id": "0e46beb4",
   "metadata": {},
   "source": [
    "## 🧱 **Baselines & KNN CF**\n",
    "\n",
    "Popularity, user mean, item mean, user-KNN, item-KNN\n",
    "\n",
    "---"
   ]
  },
  {
   "cell_type": "markdown",
   "id": "a80fb4bc",
   "metadata": {},
   "source": [
    "## 🔬 **SVD / ALS & Hybrid**\n",
    "\n",
    "SVD, ALS, content-based fallback hybrid\n",
    "\n",
    "---"
   ]
  },
  {
   "cell_type": "markdown",
   "id": "2b654564",
   "metadata": {},
   "source": [
    "## 📊 **Evaluation, Ensemble Re-ranker, & Conclusion**\n",
    "\n",
    "Compare models, metrics table, stakeholder implications\n",
    "\n",
    "---"
   ]
  }
 ],
 "metadata": {
  "kernelspec": {
   "display_name": "Python 3",
   "language": "python",
   "name": "python3"
  },
  "language_info": {
   "codemirror_mode": {
    "name": "ipython",
    "version": 3
   },
   "file_extension": ".py",
   "mimetype": "text/x-python",
   "name": "python",
   "nbconvert_exporter": "python",
   "pygments_lexer": "ipython3",
   "version": "3.8.5"
  }
 },
 "nbformat": 4,
 "nbformat_minor": 5
}
