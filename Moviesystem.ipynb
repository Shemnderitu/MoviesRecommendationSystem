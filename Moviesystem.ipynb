{
 "cells": [
  {
   "cell_type": "markdown",
   "id": "91884f53",
   "metadata": {},
   "source": [
    "# **StreamSmart: Personalized Movie Recommendations**"
   ]
  },
  {
   "cell_type": "markdown",
   "id": "67f6bfe8",
   "metadata": {},
   "source": [
    "## 🚦 Overview\n",
    "1. Business Understanding\n",
    "2. Data Understanding\n",
    "3. Exploratory Data Analysis\n",
    "4. Baseline Modelling\n",
    "5. Adavanced Modelling - SVD, NMF\n",
    "6. Evaluation\n",
    "\n",
    "---"
   ]
  },
  {
   "cell_type": "markdown",
   "id": "25c6469c",
   "metadata": {},
   "source": [
    "## 🎯 **Business Understanding**\n",
    "\n",
    "Intro, stakeholder, long-tail problem, success metric\n",
    "\n",
    "---"
   ]
  },
  {
   "cell_type": "markdown",
   "id": "93244e7c",
   "metadata": {},
   "source": [
    "## 🔎 **Data Understanding**\n",
    "\n",
    "### 1. Importing Libraries and Setup\n",
    "\n",
    "Before diving into the data, we need to import a number of Python libraries that will help us handle, manipulate, and analyze the dataset."
   ]
  },
  {
   "cell_type": "code",
   "execution_count": 1,
   "id": "97172745",
   "metadata": {},
   "outputs": [],
   "source": [
    "# Import necessary libraries\n",
    "import numpy as np\n",
    "import pandas as pd\n",
    "import matplotlib.pyplot as plt\n",
    "import seaborn as sns\n",
    "from collections import defaultdict\n",
    "import warnings\n",
    "warnings.filterwarnings('ignore')\n",
    "\n",
    "# Surprise library for recommendation systems\n",
    "from surprise import Dataset, Reader, accuracy\n",
    "from surprise import KNNBasic, KNNWithMeans, SVD, NMF\n",
    "from surprise.model_selection import cross_validate, GridSearchCV, train_test_split\n",
    "\n",
    "# Set style for plots\n",
    "plt.style.use('seaborn-whitegrid')\n",
    "sns.set_palette(\"Set2\")\n",
    "%matplotlib inline"
   ]
  },
  {
   "cell_type": "markdown",
   "id": "89b828ec",
   "metadata": {},
   "source": [
    "\n",
    "### 2. Data Loading and Initial Exploration\n",
    "\n",
    "- In this section we load all the core MovieLens datasets i.e **movies, ratings, links, and tags** into a pandas DataFrame.\n",
    "\n",
    "- Then we merge these datasets into a single comprehensive DataFrame called movie_data, combining movie details, user ratings, external links, and user-generated tags.\n",
    "\n",
    "- The merging process ensures that all ratings are retained, even if some movies lack tags.\n",
    "\n",
    "- Finally, we shall print the shape of the merged DataFrame and displays its first few rows, allowing you to verify that the data has been loaded and combined correctly for further analysis."
   ]
  },
  {
   "cell_type": "markdown",
   "id": "574f3f58",
   "metadata": {},
   "source": [
    "---"
   ]
  },
  {
   "cell_type": "code",
   "execution_count": 2,
   "id": "4b77b6dc",
   "metadata": {},
   "outputs": [
    {
     "name": "stdout",
     "output_type": "stream",
     "text": [
      "Movie Data Shape: (102677, 10)\n"
     ]
    },
    {
     "data": {
      "text/html": [
       "<div>\n",
       "<style scoped>\n",
       "    .dataframe tbody tr th:only-of-type {\n",
       "        vertical-align: middle;\n",
       "    }\n",
       "\n",
       "    .dataframe tbody tr th {\n",
       "        vertical-align: top;\n",
       "    }\n",
       "\n",
       "    .dataframe thead th {\n",
       "        text-align: right;\n",
       "    }\n",
       "</style>\n",
       "<table border=\"1\" class=\"dataframe\">\n",
       "  <thead>\n",
       "    <tr style=\"text-align: right;\">\n",
       "      <th></th>\n",
       "      <th>movieId</th>\n",
       "      <th>title</th>\n",
       "      <th>genres</th>\n",
       "      <th>userId</th>\n",
       "      <th>rating</th>\n",
       "      <th>timestamp_rating</th>\n",
       "      <th>imdbId</th>\n",
       "      <th>tmdbId</th>\n",
       "      <th>tag</th>\n",
       "      <th>timestamp_tag</th>\n",
       "    </tr>\n",
       "  </thead>\n",
       "  <tbody>\n",
       "    <tr>\n",
       "      <th>0</th>\n",
       "      <td>1</td>\n",
       "      <td>Toy Story (1995)</td>\n",
       "      <td>Adventure|Animation|Children|Comedy|Fantasy</td>\n",
       "      <td>1</td>\n",
       "      <td>4.0</td>\n",
       "      <td>964982703</td>\n",
       "      <td>114709</td>\n",
       "      <td>862.0</td>\n",
       "      <td>NaN</td>\n",
       "      <td>NaN</td>\n",
       "    </tr>\n",
       "    <tr>\n",
       "      <th>1</th>\n",
       "      <td>1</td>\n",
       "      <td>Toy Story (1995)</td>\n",
       "      <td>Adventure|Animation|Children|Comedy|Fantasy</td>\n",
       "      <td>5</td>\n",
       "      <td>4.0</td>\n",
       "      <td>847434962</td>\n",
       "      <td>114709</td>\n",
       "      <td>862.0</td>\n",
       "      <td>NaN</td>\n",
       "      <td>NaN</td>\n",
       "    </tr>\n",
       "    <tr>\n",
       "      <th>2</th>\n",
       "      <td>1</td>\n",
       "      <td>Toy Story (1995)</td>\n",
       "      <td>Adventure|Animation|Children|Comedy|Fantasy</td>\n",
       "      <td>7</td>\n",
       "      <td>4.5</td>\n",
       "      <td>1106635946</td>\n",
       "      <td>114709</td>\n",
       "      <td>862.0</td>\n",
       "      <td>NaN</td>\n",
       "      <td>NaN</td>\n",
       "    </tr>\n",
       "    <tr>\n",
       "      <th>3</th>\n",
       "      <td>1</td>\n",
       "      <td>Toy Story (1995)</td>\n",
       "      <td>Adventure|Animation|Children|Comedy|Fantasy</td>\n",
       "      <td>15</td>\n",
       "      <td>2.5</td>\n",
       "      <td>1510577970</td>\n",
       "      <td>114709</td>\n",
       "      <td>862.0</td>\n",
       "      <td>NaN</td>\n",
       "      <td>NaN</td>\n",
       "    </tr>\n",
       "    <tr>\n",
       "      <th>4</th>\n",
       "      <td>1</td>\n",
       "      <td>Toy Story (1995)</td>\n",
       "      <td>Adventure|Animation|Children|Comedy|Fantasy</td>\n",
       "      <td>17</td>\n",
       "      <td>4.5</td>\n",
       "      <td>1305696483</td>\n",
       "      <td>114709</td>\n",
       "      <td>862.0</td>\n",
       "      <td>NaN</td>\n",
       "      <td>NaN</td>\n",
       "    </tr>\n",
       "  </tbody>\n",
       "</table>\n",
       "</div>"
      ],
      "text/plain": [
       "   movieId             title                                       genres  \\\n",
       "0        1  Toy Story (1995)  Adventure|Animation|Children|Comedy|Fantasy   \n",
       "1        1  Toy Story (1995)  Adventure|Animation|Children|Comedy|Fantasy   \n",
       "2        1  Toy Story (1995)  Adventure|Animation|Children|Comedy|Fantasy   \n",
       "3        1  Toy Story (1995)  Adventure|Animation|Children|Comedy|Fantasy   \n",
       "4        1  Toy Story (1995)  Adventure|Animation|Children|Comedy|Fantasy   \n",
       "\n",
       "   userId  rating  timestamp_rating  imdbId  tmdbId  tag  timestamp_tag  \n",
       "0       1     4.0         964982703  114709   862.0  NaN            NaN  \n",
       "1       5     4.0         847434962  114709   862.0  NaN            NaN  \n",
       "2       7     4.5        1106635946  114709   862.0  NaN            NaN  \n",
       "3      15     2.5        1510577970  114709   862.0  NaN            NaN  \n",
       "4      17     4.5        1305696483  114709   862.0  NaN            NaN  "
      ]
     },
     "execution_count": 2,
     "metadata": {},
     "output_type": "execute_result"
    }
   ],
   "source": [
    "# Load all datasets\n",
    "movies = pd.read_csv('Data/ml-latest-small/movies.csv')\n",
    "ratings = pd.read_csv('Data/ml-latest-small/ratings.csv')\n",
    "links = pd.read_csv('Data/ml-latest-small/links.csv')\n",
    "tags = pd.read_csv('Data/ml-latest-small/tags.csv')\n",
    "\n",
    "# Merge movies with ratings\n",
    "movie_data = pd.merge(movies, ratings, on='movieId')\n",
    "\n",
    "# Merge with links\n",
    "movie_data = pd.merge(movie_data, links, on='movieId')\n",
    "\n",
    "# Merge with tags (left join to keep all ratings, even if no tag)\n",
    "movie_data = pd.merge(movie_data, tags[['movieId', 'userId', 'tag', 'timestamp']], \n",
    "                      on=['movieId', 'userId'], how='left', suffixes=('_rating', '_tag'))\n",
    "\n",
    "# Inspect the final dataframe\n",
    "print(\"Movie Data Shape:\", movie_data.shape)\n",
    "movie_data.head()"
   ]
  },
  {
   "cell_type": "markdown",
   "id": "041af074",
   "metadata": {},
   "source": [
    "We're using:\n",
    "\n",
    "**NumPy and Pandas** for data manipulation\n",
    "\n",
    "**Matplotlib** and **Seaborn** for visualization\n",
    "\n",
    "**Surprise library** which is specifically designed for building recommendation systems\n",
    "\n",
    "We're **filtering out warnings** to keep the output clean\n",
    "\n",
    "Setting a **consistent visual style** for our plots"
   ]
  },
  {
   "cell_type": "markdown",
   "id": "40e55eb6",
   "metadata": {},
   "source": [
    "### 3. Dataset Overview and Basic Statistics\n",
    "\n",
    "- Here we observe a summary of the MovieLens dataset after merging all sources.\n",
    "\n",
    "- It reports the number of unique users, movies, ratings, and tags, then displays descriptive statistics for the ratings (such as mean, standard deviation, minimum, and maximum).\n",
    " \n",
    "- Finally, we visualize the distribution of ratings using a bar plot, helping us understand how users rate movies and revealing any trends or biases in the rating behavior."
   ]
  },
  {
   "cell_type": "code",
   "execution_count": 3,
   "id": "b1884e1f",
   "metadata": {},
   "outputs": [
    {
     "name": "stdout",
     "output_type": "stream",
     "text": [
      "Dataset Info:\n",
      "Number of users: 610\n",
      "Number of movies: 9724\n",
      "Number of ratings: 102677\n",
      "Number of tags: 3476\n",
      "\n",
      "Rating Statistics:\n",
      "count    102677.000000\n",
      "mean          3.514813\n",
      "std           1.043133\n",
      "min           0.500000\n",
      "25%           3.000000\n",
      "50%           3.500000\n",
      "75%           4.000000\n",
      "max           5.000000\n",
      "Name: rating, dtype: float64\n"
     ]
    },
    {
     "data": {
      "image/png": "[encoded data removed]",
      "text/plain": [
       "<Figure size 720x432 with 1 Axes>"
      ]
     },
     "metadata": {
      "needs_background": "light"
     },
     "output_type": "display_data"
    }
   ],
   "source": [
    "# Basic information about the dataset\n",
    "print(\"Dataset Info:\")\n",
    "print(f\"Number of users: {movie_data['userId'].nunique()}\")\n",
    "print(f\"Number of movies: {movie_data['movieId'].nunique()}\")\n",
    "print(f\"Number of ratings: {len(movie_data)}\")\n",
    "print(f\"Number of tags: {movie_data['tag'].notna().sum()}\")\n",
    "\n",
    "# Rating statistics\n",
    "print(\"\\nRating Statistics:\")\n",
    "print(movie_data['rating'].describe())\n",
    "\n",
    "# Distribution of ratings\n",
    "plt.figure(figsize=(10, 6))\n",
    "sns.countplot(x='rating', data=movie_data)\n",
    "plt.title('Distribution of Ratings')\n",
    "plt.xlabel('Rating')\n",
    "plt.ylabel('Count')\n",
    "plt.show()"
   ]
  },
  {
   "cell_type": "markdown",
   "id": "fa19b4ea",
   "metadata": {},
   "source": [
    "## 🧪 **Exploratory Data Analysis**\n",
    "\n",
    "Chronological per-user split, avoid leakage\n",
    "\n",
    "---"
   ]
  },
  {
   "cell_type": "markdown",
   "id": "0e46beb4",
   "metadata": {},
   "source": [
    "## 🧱 **Modelling**\n",
    "\n",
    "### **1. KNN Model Implementation**\n",
    "\n",
    "In our modeling workflow, we'll use KNN as a baseline model. Its purpose is not to be perfect, but to establish a floor.\n",
    "\n",
    "KNNBasic is a memory-based collaborative filtering algorithm that finds similar users or items based on rating patterns.\n",
    "\n",
    "KNNBasic is a natural starting point in recommendation systems because:\n",
    "\n",
    "- It embodies the intuition that “users/items that are similar will have similar preferences.\"\n",
    "\n",
    "- It avoids complexity — no latent factor modeling or neural nets. Just neighbors + similarity.\n",
    "\n",
    "- It uses a straightforward decision rule: for a given user–item pair, look at the k most similar users (or items), then average their ratings.\n",
    "\n",
    "How the decision rule is applied:\n",
    "\n",
    "- Step 1: Choose whether to compare users (user-based CF) or items (item-based CF).\n",
    "\n",
    "- Step 2: Select a similarity measure:\n",
    "\n",
    "   -> Cosine similarity\n",
    "\n",
    "   -> Mean Squared Difference (msd)\n",
    "   \n",
    "   -> Pearson correlation\n",
    "\n",
    "- Step 3: Pick a neighborhood size k (how many nearest neighbors to consider).\n",
    "\n",
    "- Step 4: Predict a user’s rating for a movie by averaging the ratings of those k neighbors, possibly weighted by similarity."
   ]
  },
  {
   "cell_type": "code",
   "execution_count": 5,
   "id": "65499f06",
   "metadata": {},
   "outputs": [
    {
     "ename": "NameError",
     "evalue": "name 'data' is not defined",
     "output_type": "error",
     "traceback": [
      "\u001b[0;31m---------------------------------------------------------------------------\u001b[0m",
      "\u001b[0;31mNameError\u001b[0m                                 Traceback (most recent call last)",
      "\u001b[0;32m<ipython-input-5-798dd77fd57d>\u001b[0m in \u001b[0;36m<module>\u001b[0;34m\u001b[0m\n\u001b[1;32m     10\u001b[0m \u001b[0;31m# Grid search for KNNBasic\u001b[0m\u001b[0;34m\u001b[0m\u001b[0;34m\u001b[0m\u001b[0;34m\u001b[0m\u001b[0m\n\u001b[1;32m     11\u001b[0m \u001b[0mgs_knn\u001b[0m \u001b[0;34m=\u001b[0m \u001b[0mGridSearchCV\u001b[0m\u001b[0;34m(\u001b[0m\u001b[0mKNNBasic\u001b[0m\u001b[0;34m,\u001b[0m \u001b[0mparam_grid_knn\u001b[0m\u001b[0;34m,\u001b[0m \u001b[0mmeasures\u001b[0m\u001b[0;34m=\u001b[0m\u001b[0;34m[\u001b[0m\u001b[0;34m'rmse'\u001b[0m\u001b[0;34m,\u001b[0m \u001b[0;34m'mae'\u001b[0m\u001b[0;34m]\u001b[0m\u001b[0;34m,\u001b[0m \u001b[0mcv\u001b[0m\u001b[0;34m=\u001b[0m\u001b[0;36m3\u001b[0m\u001b[0;34m,\u001b[0m \u001b[0mn_jobs\u001b[0m\u001b[0;34m=\u001b[0m\u001b[0;34m-\u001b[0m\u001b[0;36m1\u001b[0m\u001b[0;34m)\u001b[0m\u001b[0;34m\u001b[0m\u001b[0;34m\u001b[0m\u001b[0m\n\u001b[0;32m---> 12\u001b[0;31m \u001b[0mgs_knn\u001b[0m\u001b[0;34m.\u001b[0m\u001b[0mfit\u001b[0m\u001b[0;34m(\u001b[0m\u001b[0mdata\u001b[0m\u001b[0;34m)\u001b[0m\u001b[0;34m\u001b[0m\u001b[0;34m\u001b[0m\u001b[0m\n\u001b[0m\u001b[1;32m     13\u001b[0m \u001b[0;34m\u001b[0m\u001b[0m\n\u001b[1;32m     14\u001b[0m \u001b[0;31m# Best RMSE score and parameters\u001b[0m\u001b[0;34m\u001b[0m\u001b[0;34m\u001b[0m\u001b[0;34m\u001b[0m\u001b[0m\n",
      "\u001b[0;31mNameError\u001b[0m: name 'data' is not defined"
     ]
    }
   ],
   "source": [
    "# Define parameter grid for KNNBasic\n",
    "param_grid_knn = {\n",
    "    'k': [20, 30, 40],\n",
    "    'sim_options': {\n",
    "        'name': ['cosine','msd', 'pearson'],\n",
    "        'user_based': [True, False]\n",
    "    }\n",
    "}\n",
    "\n",
    "# Grid search for KNNBasic\n",
    "gs_knn = GridSearchCV(KNNBasic, param_grid_knn, measures=['rmse', 'mae'], cv=3, n_jobs=-1)\n",
    "gs_knn.fit(data)\n",
    "\n",
    "# Best RMSE score and parameters\n",
    "print(\"Best RMSE for KNNBasic:\", gs_knn.best_score['rmse'])\n",
    "print(\"Best parameters for KNNBasic:\", gs_knn.best_params['rmse'])\n",
    "\n",
    "# Train the best model\n",
    "knn_best = gs_knn.best_estimator['rmse']\n",
    "knn_best.fit(trainset)\n",
    "knn_predictions = knn_best.test(testset)\n",
    "\n",
    "# Calculate evaluation metrics\n",
    "knn_rmse = accuracy.rmse(knn_predictions)\n",
    "knn_mae = accuracy.mae(knn_predictions)\n",
    "print(f\"KNNBasic - RMSE: {knn_rmse}, MAE: {knn_mae}\")"
   ]
  },
  {
   "cell_type": "markdown",
   "id": "4b6af668",
   "metadata": {},
   "source": [
    "This cell implements and tunes a **KNNBasic model:**\n",
    "\n",
    "- Defines a **parameter grid** to search through different values of k and similarity measures\n",
    "\n",
    "- Uses **GridSearchCV** to find the best parameters through cross-validation:\n",
    "\n",
    "    1.  **k** = 40\n",
    "\n",
    "    2.  **Similarity** = msd (mean squared difference)\n",
    "\n",
    "    3.  **Mode**\" = item-based (user_based=False)\n",
    "\n",
    "- Trains the model with the best parameters on the full training set\n",
    "\n",
    "- Makes predictions on the test set\n",
    "\n",
    "-  Calculates and prints **evaluation metrics (RMSE and MAE)**:\n",
    "\n",
    "    1. **RMSE ≈ 0.91** → On average, our predictions are off by slightly less than 1 star compared to what the user actually rated. Big mistakes (like predicting 1 star when the user gave 5) count more heavily in this measure.\n",
    "    \n",
    "    2.  **MAE ≈ 0.7** → The typical prediction error is about three-quarters of a star. In plain terms, if a user gave a movie 4 stars, our model usually predicts somewhere between 3 and 5."
   ]
  },
  {
   "cell_type": "markdown",
   "id": "b549b6df",
   "metadata": {},
   "source": [
    "### Distribution of actual ratings vs predicted ratings"
   ]
  },
  {
   "cell_type": "code",
   "execution_count": null,
   "id": "1ef3364c",
   "metadata": {},
   "outputs": [],
   "source": [
    "# Extract actual and predicted\n",
    "y_true = [pred.r_ui for pred in knn_predictions]\n",
    "y_pred = [pred.est for pred in knn_predictions]\n",
    "\n",
    "plt.figure(figsize=(6,4))\n",
    "plt.scatter(y_true, y_pred, alpha=0.2)\n",
    "plt.xlabel(\"Actual Rating\")\n",
    "plt.ylabel(\"Predicted Rating\")\n",
    "plt.title(\"KNNBasic Baseline: Actual vs Predicted Ratings\")\n",
    "plt.show()"
   ]
  },
  {
   "cell_type": "markdown",
   "id": "54c22d76",
   "metadata": {},
   "source": [
    "The scatter plot shows how close the KNNBasic model’s predicted ratings are to the actual user ratings. Points near the diagonal indicate accurate predictions; points farther away show larger errors. This helps quickly visualize the model’s performance."
   ]
  },
  {
   "cell_type": "markdown",
   "id": "0f6cc425",
   "metadata": {},
   "source": [
    "### Error distribution (residuals)"
   ]
  },
  {
   "cell_type": "code",
   "execution_count": null,
   "id": "551ae5a4",
   "metadata": {},
   "outputs": [],
   "source": [
    "errors = np.array(y_true) - np.array(y_pred)\n",
    "\n",
    "plt.figure(figsize=(6,4))\n",
    "plt.hist(errors, bins=30, color='skyblue', edgecolor='black')\n",
    "plt.xlabel(\"Prediction Error (Actual - Predicted)\")\n",
    "plt.ylabel(\"Frequency\")\n",
    "plt.title(\"KNNBasic Baseline: Distribution of Prediction Errors\")\n",
    "plt.show()"
   ]
  },
  {
   "cell_type": "markdown",
   "id": "6ca3c618",
   "metadata": {},
   "source": [
    "The histogram shows how far off the KNNBasic model’s predictions are from the actual ratings. Most errors are close to zero, meaning predictions are usually accurate; wider spread indicates larger mistakes."
   ]
  },
  {
   "cell_type": "markdown",
   "id": "b5521f40",
   "metadata": {},
   "source": [
    "### Performance comparison by rating level"
   ]
  },
  {
   "cell_type": "code",
   "execution_count": null,
   "id": "f1e0b5a8",
   "metadata": {},
   "outputs": [],
   "source": [
    "# Create a DataFrame for evaluation\n",
    "df_eval = pd.DataFrame({'actual': y_true, 'predicted': y_pred})\n",
    "df_eval['error'] = df_eval['actual'] - df_eval['predicted']\n",
    "\n",
    "# Group by actual rating\n",
    "grouped = df_eval.groupby('actual')['error'].agg(['mean','std','count'])\n",
    "\n",
    "print(grouped)"
   ]
  },
  {
   "cell_type": "markdown",
   "id": "ad6260c0",
   "metadata": {},
   "source": [
    "- This table shows the average prediction error, standard deviation, and count for each actual rating value. \n",
    "\n",
    "- Negative means (for low ratings) indicate the model overestimates those ratings, while positive means (for high ratings) show it underestimates them. The model predicts mid-range ratings more accurately than extreme ratings."
   ]
  },
  {
   "cell_type": "markdown",
   "id": "a80fb4bc",
   "metadata": {},
   "source": [
    "### **2. Singular Value Decomposition (SVD) Model Implementation**"
   ]
  },
  {
   "cell_type": "markdown",
   "id": "df5753d6",
   "metadata": {},
   "source": [
    "After establishing a baseline with KNNBasic, we now move to Singular Value Decomposition (SVD), a more advanced collaborative filtering technique.\n",
    "\n",
    "Unlike KNN, which relies on direct similarity between users or items, SVD uncovers hidden patterns by learning latent features that represent user preferences and movie characteristics.\n",
    "\n",
    "This allows SVD to make more accurate predictions, especially in sparse datasets, and often leads to better recommendation performance than simple neighbor-based methods."
   ]
  },
  {
   "cell_type": "code",
   "execution_count": null,
   "id": "56426cf6",
   "metadata": {},
   "outputs": [],
   "source": [
    "# Define parameter grid for SVD\n",
    "param_grid_svd = {\n",
    "    'n_factors': [50, 100, 150],\n",
    "    'n_epochs': [20, 30],\n",
    "    'lr_all': [0.002, 0.005],\n",
    "    'reg_all': [0.02, 0.1]\n",
    "}\n",
    "\n",
    "# Grid search for SVD\n",
    "gs_svd = GridSearchCV(SVD, param_grid_svd, measures=['rmse', 'mae'], cv=3, n_jobs=-1)\n",
    "gs_svd.fit(data)\n",
    "\n",
    "# Best RMSE score and parameters\n",
    "print(\"Best RMSE for SVD:\", gs_svd.best_score['rmse'])\n",
    "print(\"Best parameters for SVD:\", gs_svd.best_params['rmse'])\n",
    "\n",
    "# Train the best model\n",
    "svd_best = gs_svd.best_estimator['rmse']\n",
    "svd_best.fit(trainset)\n",
    "svd_predictions = svd_best.test(testset)\n",
    "\n",
    "# Calculate evaluation metrics\n",
    "svd_rmse = accuracy.rmse(svd_predictions)\n",
    "svd_mae = accuracy.mae(svd_predictions)\n",
    "print(f\"SVD - RMSE: {svd_rmse}, MAE: {svd_mae}\")"
   ]
  },
  {
   "cell_type": "markdown",
   "id": "1edb79a8",
   "metadata": {},
   "source": [
    "This output shows SVD model's performance on our MovieLens dataset:\n",
    "\n",
    "- **Best RMSE for SVD: 0.87**\n",
    "\n",
    "During grid search, the SVD model achieved its lowest root mean squared error (RMSE) of 0.87, meaning its predictions are, on average, less than one star away from the actual ratings.\n",
    "\n",
    "- **Best parameters:**\n",
    "\n",
    "1. **n_factors = 150:** The model uses 150 latent features to represent users and movies.\n",
    "\n",
    "2. **n_epochs = 30:** The model trains for 30 iterations.\n",
    "\n",
    "3. **lr_all = 0.005:** The learning rate for updating parameters.\n",
    "\n",
    "4. **reg_all = 0.1:** The regularization term to prevent overfitting.\n",
    "\n",
    "- **RMSE: 0.86, MAE: 0.66**\n",
    "\n",
    "After training with these parameters, the model predicts ratings for your test set with an average RMSE of 0.86 and MAE of 0.66.\n",
    "\n",
    "- RMSE (Root Mean Squared Error) measures the average squared difference between predicted and actual ratings.\n",
    "- MAE (Mean Absolute Error) is the average absolute difference.\n",
    "\n",
    "\n",
    "\n",
    "For our MovieLens data, SVD with these parameters provides the more accurate predictions among our tested models, with errors well below 1 star on average. This means the SVD model can be highly effective at learning user preferences and recommending movies they are likely to enjoy."
   ]
  },
  {
   "cell_type": "markdown",
   "id": "69247dd7",
   "metadata": {},
   "source": [
    "### Actual vs Predicted Ratings Scatter Plot"
   ]
  },
  {
   "cell_type": "code",
   "execution_count": null,
   "id": "28d9e435",
   "metadata": {},
   "outputs": [],
   "source": [
    "y_true_svd = [pred.r_ui for pred in svd_predictions]\n",
    "y_pred_svd = [pred.est for pred in svd_predictions]\n",
    "\n",
    "plt.figure(figsize=(6,4))\n",
    "plt.scatter(y_true_svd, y_pred_svd, alpha=0.2)\n",
    "plt.xlabel(\"Actual Rating\")\n",
    "plt.ylabel(\"Predicted Rating\")\n",
    "plt.title(\"SVD: Actual vs Predicted Ratings\")\n",
    "plt.savefig('images/actual_predicted_SVD.png')\n",
    "plt.show()"
   ]
  },
  {
   "cell_type": "markdown",
   "id": "75eda35a",
   "metadata": {},
   "source": [
    "The scatter plot shows the relationship between the actual user ratings and the ratings predicted by the SVD model. \n",
    "\n",
    "Points close to the diagonal line indicate accurate predictions, while points farther away show larger errors. This visualization helps you quickly assess how well the SVD model matches real user preferences."
   ]
  },
  {
   "cell_type": "markdown",
   "id": "390cc2a3",
   "metadata": {},
   "source": [
    "### Prediction Error Histogram"
   ]
  },
  {
   "cell_type": "code",
   "execution_count": null,
   "id": "31167137",
   "metadata": {},
   "outputs": [],
   "source": [
    "errors_svd = np.array(y_true_svd) - np.array(y_pred_svd)\n",
    "plt.figure(figsize=(6,4))\n",
    "plt.hist(errors_svd, bins=30, color='lightgreen', edgecolor='black')\n",
    "plt.xlabel(\"Prediction Error (Actual - Predicted)\")\n",
    "plt.ylabel(\"Frequency\")\n",
    "plt.title(\"SVD: Distribution of Prediction Errors\")\n",
    "plt.savefig('images/prediction_error.png')\n",
    "plt.show()"
   ]
  },
  {
   "cell_type": "markdown",
   "id": "221cfe69",
   "metadata": {},
   "source": [
    "The histogram shows the distribution of prediction errors (actual rating minus predicted rating) for the SVD model.\n",
    "\n",
    "Most errors once again are close to zero, indicating that the model’s predictions are generally accurate. The spread of the histogram reveals how often the model makes larger mistakes."
   ]
  },
  {
   "cell_type": "markdown",
   "id": "03cc782e",
   "metadata": {},
   "source": [
    "### Error by Actual Rating Bar Plot"
   ]
  },
  {
   "cell_type": "code",
   "execution_count": null,
   "id": "5f8377ab",
   "metadata": {},
   "outputs": [],
   "source": [
    "df_eval_svd = pd.DataFrame({'actual': y_true_svd, 'predicted': y_pred_svd})\n",
    "df_eval_svd['error'] = df_eval_svd['actual'] - df_eval_svd['predicted']\n",
    "grouped_svd = df_eval_svd.groupby('actual')['error'].mean()\n",
    "plt.figure(figsize=(7,4))\n",
    "grouped_svd.plot(kind='bar', color='salmon', edgecolor='black')\n",
    "plt.xlabel('Actual Rating')\n",
    "plt.ylabel('Mean Prediction Error')\n",
    "plt.title('SVD: Mean Prediction Error by Actual Rating')\n",
    "plt.savefig('images/mean_prediction.png')\n",
    "plt.show()"
   ]
  },
  {
   "cell_type": "markdown",
   "id": "3c34954f",
   "metadata": {},
   "source": [
    "The bar plot shows the average prediction error for each actual rating value. \n",
    "\n",
    "It reveals whether the SVD model tends to overestimate or underestimate ratings at different levels, helping you identify any bias in the model’s predictions."
   ]
  },
  {
   "cell_type": "markdown",
   "id": "2267e545",
   "metadata": {},
   "source": [
    "### **3. Non-nagative Matrix Factorization (NMF) Model Implementation**"
   ]
  },
  {
   "cell_type": "markdown",
   "id": "4958b5e9",
   "metadata": {},
   "source": [
    "After evaluating the KNNBasic baseline and the SVD model, we now introduce Non-negative Matrix Factorization (NMF). Like SVD, NMF is a latent factor model that uncovers hidden patterns in user–movie interactions, but it constrains all learned features to be non-negative. \n",
    "\n",
    "This makes NMF especially useful for interpretability, as it ensures that user and item factors represent additive contributions. NMF is another powerful approach for collaborative filtering, offering a different perspective on how user preferences and movie characteristics combine to predict ratings."
   ]
  },
  {
   "cell_type": "code",
   "execution_count": null,
   "id": "c4a73159",
   "metadata": {},
   "outputs": [],
   "source": [
    "# Define parameter grid for NMF\n",
    "param_grid_nmf = {\n",
    "    'n_factors': [50, 100, 150],\n",
    "    'n_epochs': [20, 30, 40],\n",
    "    'reg_pu': [0.02, 0.06],\n",
    "    'reg_qi': [0.02, 0.06]\n",
    "}\n",
    "\n",
    "# Grid search for NMF\n",
    "gs_nmf = GridSearchCV(NMF, param_grid_nmf, measures=['rmse', 'mae'], cv=3, n_jobs=-1)\n",
    "gs_nmf.fit(data)\n",
    "\n",
    "# Best RMSE score and parameters\n",
    "print(\"Best RMSE for NMF:\", gs_nmf.best_score['rmse'])\n",
    "print(\"Best parameters for NMF:\", gs_nmf.best_params['rmse'])\n",
    "\n",
    "# Train the best model\n",
    "nmf_best = gs_nmf.best_estimator['rmse']\n",
    "nmf_best.fit(trainset)\n",
    "nmf_predictions = nmf_best.test(testset)\n",
    "\n",
    "# Calculate evaluation metrics\n",
    "nmf_rmse = accuracy.rmse(nmf_predictions)\n",
    "nmf_mae = accuracy.mae(nmf_predictions)\n",
    "print(f\"NMF - RMSE: {nmf_rmse}, MAE: {nmf_mae}\")"
   ]
  },
  {
   "cell_type": "markdown",
   "id": "1799c145",
   "metadata": {},
   "source": [
    "Here we observe how the NMF model performed on the dataset:\n",
    "\n",
    "- **Best RMSE for NMF: 1.09**\n",
    "\n",
    "The lowest root mean squared error (RMSE) found during grid search is 1.09, meaning the model's predictions are, on average, about 1.09 stars away from the actual ratings.\n",
    "\n",
    "- **Best parameters:**\n",
    "\n",
    "1. **n_factors = 50:** The model uses 50 latent features to represent users and movies.\n",
    "\n",
    "2. **n_epochs = 40:** The model trains for 40 iterations.\n",
    "\n",
    "3. **reg_pu = 0.06, reg_qi = 0.06:** Regularization terms to prevent overfitting for user and item features.\n",
    "\n",
    "- **RMSE: 1.09, MAE: 0.83**\n",
    "\n",
    "After training with these parameters, the model predicts ratings for our test set with an average RMSE of 1.09 and MAE of 0.83.\n",
    "\n",
    "- RMSE (Root Mean Squared Error) measures the average squared difference between predicted and actual ratings.\n",
    "\n",
    "- MAE (Mean Absolute Error) is the average absolute difference.\n",
    "\n",
    "\n",
    "For our data, NMF with these parameters produces less accurate predictions than SVD or KNNBasic, with errors just above 1 star on average. This means NMF is less effective at capturing user preferences and recommending movies for our dataset."
   ]
  },
  {
   "cell_type": "markdown",
   "id": "273548da",
   "metadata": {},
   "source": [
    "### Actual vs Predicted Ratings Scatter Plot"
   ]
  },
  {
   "cell_type": "code",
   "execution_count": null,
   "id": "8a3081ca",
   "metadata": {},
   "outputs": [],
   "source": [
    "nmf_y_true = [pred.r_ui for pred in nmf_predictions]\n",
    "nmf_y_pred = [pred.est for pred in nmf_predictions]\n",
    "plt.figure(figsize=(6,4))\n",
    "plt.scatter(nmf_y_true, nmf_y_pred, alpha=0.2)\n",
    "plt.xlabel(\"Actual Rating\")\n",
    "plt.ylabel(\"Predicted Rating\")\n",
    "plt.title(\"NMF: Actual vs Predicted Ratings\")\n",
    "plt.show()"
   ]
  },
  {
   "cell_type": "markdown",
   "id": "5352f012",
   "metadata": {},
   "source": [
    "The bar plot shows the average prediction error for each actual rating in the MovieLens dataset using our NMF model. \n",
    "\n",
    "It helps us see if NMF tends to overestimate or underestimate ratings at different levels, revealing any bias in its predictions for specific rating values."
   ]
  },
  {
   "cell_type": "markdown",
   "id": "1ccb5889",
   "metadata": {},
   "source": [
    "### Prediction Error Histogram"
   ]
  },
  {
   "cell_type": "code",
   "execution_count": null,
   "id": "4ca5279a",
   "metadata": {},
   "outputs": [],
   "source": [
    "nmf_errors = np.array(nmf_y_true) - np.array(nmf_y_pred)\n",
    "plt.figure(figsize=(6,4))\n",
    "plt.hist(nmf_errors, bins=30, color='plum', edgecolor='black')\n",
    "plt.xlabel(\"Prediction Error (Actual - Predicted)\")\n",
    "plt.ylabel(\"Frequency\")\n",
    "plt.title(\"NMF: Distribution of Prediction Errors\")\n",
    "plt.show()"
   ]
  },
  {
   "cell_type": "markdown",
   "id": "1986ae44",
   "metadata": {},
   "source": [
    "The output is a histogram showing how far off the NMF model’s predicted ratings are from the actual ratings in your MovieLens dataset. "
   ]
  },
  {
   "cell_type": "markdown",
   "id": "d7eaff1d",
   "metadata": {},
   "source": [
    "### Mean Prediction Error by Actual Rating Bar Plot"
   ]
  },
  {
   "cell_type": "code",
   "execution_count": null,
   "id": "0a6fae7b",
   "metadata": {},
   "outputs": [],
   "source": [
    "df_eval_nmf = pd.DataFrame({'actual': nmf_y_true, 'predicted': nmf_y_pred})\n",
    "df_eval_nmf['error'] = df_eval_nmf['actual'] - df_eval_nmf['predicted']\n",
    "grouped_nmf = df_eval_nmf.groupby('actual')['error'].mean()\n",
    "plt.figure(figsize=(7,4))\n",
    "grouped_nmf.plot(kind='bar', color='orchid', edgecolor='black')\n",
    "plt.xlabel('Actual Rating')\n",
    "plt.ylabel('Mean Prediction Error')\n",
    "plt.title('NMF: Mean Prediction Error by Actual Rating')\n",
    "plt.show()"
   ]
  },
  {
   "cell_type": "markdown",
   "id": "a4934c4a",
   "metadata": {},
   "source": [
    "The bar plot shows the mean prediction error for each actual rating in our MovieLens dataset using the NMF model. \n",
    "\n",
    "Bars above zero mean the model tends to underestimate ratings at those levels, while inverted (below zero) bars indicate overestimation. Inverted bars reveal that, for those actual ratings, NMF predicts values higher than the true ratings on average."
   ]
  },
  {
   "cell_type": "markdown",
   "id": "4b48e1b3",
   "metadata": {},
   "source": [
    "## Model Comparison"
   ]
  },
  {
   "cell_type": "markdown",
   "id": "bb00e0e7",
   "metadata": {},
   "source": [
    "This phase compares the performance of the KNNBasic, SVD, and NMF models on our MovieLens dataset. \n",
    "\n",
    "It summarizes their RMSE and MAE scores in a table and visualizes the results with bar plots, making it easy to identify which model predicts user ratings most accurately."
   ]
  },
  {
   "cell_type": "code",
   "execution_count": null,
   "id": "909b92b8",
   "metadata": {},
   "outputs": [],
   "source": [
    "# Compare model performance\n",
    "models = ['KNNBasic', 'SVD', 'NMF']\n",
    "rmse_scores = [knn_rmse, svd_rmse, nmf_rmse]\n",
    "mae_scores = [knn_mae, svd_mae, nmf_mae]\n",
    "\n",
    "# Create comparison dataframe\n",
    "comparison_df = pd.DataFrame({\n",
    "    'Model': models,\n",
    "    'RMSE': rmse_scores,\n",
    "    'MAE': mae_scores\n",
    "})\n",
    "\n",
    "print(\"Model Comparison:\")\n",
    "print(comparison_df)\n",
    "\n",
    "# Plot comparison\n",
    "fig, (ax1, ax2) = plt.subplots(1, 2, figsize=(15, 5))\n",
    "\n",
    "# RMSE comparison\n",
    "ax1.bar(models, rmse_scores, color=['skyblue', 'lightgreen', 'lightcoral'])\n",
    "ax1.set_title('RMSE Comparison')\n",
    "ax1.set_ylabel('RMSE')\n",
    "\n",
    "# MAE comparison\n",
    "ax2.bar(models, mae_scores, color=['skyblue', 'lightgreen', 'lightcoral'])\n",
    "ax2.set_title('MAE Comparison')\n",
    "ax2.set_ylabel('MAE')\n",
    "\n",
    "plt.tight_layout()\n",
    "plt.savefig('images/model_comparison.png')\n",
    "plt.show()"
   ]
  },
  {
   "cell_type": "markdown",
   "id": "20f8fd17",
   "metadata": {},
   "source": [
    "Here’s what the model comparison results mean for our MovieLens data:\n",
    "\n",
    "1. **KNNBasic: RMSE = 0.91, MAE = 0.70**\n",
    "\n",
    "This model uses user/item similarity to predict ratings. Its error rates are moderate, showing it can make reasonable predictions but is outperformed by SVD.\n",
    "\n",
    "2. **SVD: RMSE = 0.86, MAE = 0.66**\n",
    "\n",
    "SVD (Singular Value Decomposition) achieves the lowest error rates, meaning it predicts user ratings most accurately for our dataset. This suggests SVD best captures the underlying patterns in our user-movie interactions.\n",
    "\n",
    "3. **NMF: RMSE = 1.09, MAE = 0.84**\n",
    "\n",
    "NMF (Non-negative Matrix Factorization) has the highest error rates, indicating it is less effective for our data compared to KNNBasic and SVD.\n",
    "\n",
    "**Conclusion:**\n",
    "\n",
    "SVD is the best model for our MovieLens recommendation system, as it provides the most accurate predictions (lowest RMSE and MAE). KNNBasic is a reasonable alternative, while NMF is less suitable for your current data."
   ]
  },
  {
   "cell_type": "markdown",
   "id": "2b654564",
   "metadata": {},
   "source": [
    "## 📊 **Evaluation**\n",
    "\n",
    "Compare models, metrics table, stakeholder implications\n",
    "\n",
    "---"
   ]
  }
 ],
 "metadata": {
  "kernelspec": {
   "display_name": "learn-env",
   "language": "python",
   "name": "python3"
  },
  "language_info": {
   "codemirror_mode": {
    "name": "ipython",
    "version": 3
   },
   "file_extension": ".py",
   "mimetype": "text/x-python",
   "name": "python",
   "nbconvert_exporter": "python",
   "pygments_lexer": "ipython3",
   "version": "3.8.5"
  }
 },
 "nbformat": 4,
 "nbformat_minor": 5
}
